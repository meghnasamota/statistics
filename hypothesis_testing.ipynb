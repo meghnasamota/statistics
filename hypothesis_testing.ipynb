{
 "cells": [
  {
   "cell_type": "markdown",
   "id": "ebb86057-2ce8-4b24-ad74-546fc683f488",
   "metadata": {},
   "source": [
    "# Hypothesis Testing"
   ]
  },
  {
   "cell_type": "markdown",
   "id": "16125ecc-12ed-47f7-85af-11a7f165703e",
   "metadata": {},
   "source": [
    "Hypothesis testing is a statistical method that is used to make a statistical decision using experimental data. Hypothesis testing is basically \n",
    "an assumption that we make about a population parameter.\n",
    "Null hypothesis (H0): In statistics, the null hypothesis is a general statement or default position that there is no relationship between two\n",
    "measured cases or no relationship among groups.\n",
    "Alternative hypothesis (H1): The alternative hypothesis is the hypothesis used in hypothesis testing that is contrary to the null hypothesis."
   ]
  },
  {
   "cell_type": "markdown",
   "id": "9235b8af-e1fd-4430-93e7-ea81d953b61e",
   "metadata": {},
   "source": [
    "# Steps of Hypothesis Testing"
   ]
  },
  {
   "cell_type": "markdown",
   "id": "d176059f-fe74-4a8f-aa08-9c629d55fd75",
   "metadata": {},
   "source": [
    "1. state null or alternative hypothesis.\n",
    "2. choose leve of significance.\n",
    "3. Find critical value\n",
    "4. Find test statistics.\n",
    "5. Draw your conclusion."
   ]
  },
  {
   "cell_type": "markdown",
   "id": "02b40901-9a5a-4cb4-a75e-b996c68dbd43",
   "metadata": {},
   "source": [
    "# Hypothesis Testing( Z - Test)"
   ]
  },
  {
   "cell_type": "markdown",
   "id": "d4c488ec-7774-459e-a588-a802be843314",
   "metadata": {},
   "source": [
    "Z-test can be defined as a statistical method that is used to determine whether the distribution of the test statistics can be approximated using \n",
    "the normal distribution or not."
   ]
  },
  {
   "cell_type": "markdown",
   "id": "7a8f281f-9976-41df-a7c0-fcc28904a5ae",
   "metadata": {},
   "source": [
    "# formula of z_score\n",
    "z=(x-μ)/(σ/√n)\n",
    "x: mean of the sample.\n",
    "μ: mean of the population.\n",
    "σ: Standard deviation of the population."
   ]
  },
  {
   "cell_type": "markdown",
   "id": "a779f2ec-c645-4943-acab-813fee8eb913",
   "metadata": {},
   "source": [
    "# when to use\n",
    "1. The sample size should be greater than 30. Otherwise, we should use the t-test.\n",
    "2. Samples should be drawn at random from the population.\n",
    "3. The standard deviation of the population should be known.\n",
    "4. Samples that are drawn from the population should be independent of each other."
   ]
  },
  {
   "cell_type": "markdown",
   "id": "f5801607-7bf8-47c8-9657-8b36126c4f9f",
   "metadata": {},
   "source": [
    "# steps to perform z-test\n",
    "1. First, identify the null and alternate hypotheses.\n",
    "2. Determine the level of significance (∝).\n",
    "3. Find the critical value of z in the z-test using\n",
    "4. Calculate the z-test statistics.The formula for calculating the z-test statistics.\n",
    "                    z=(x-μ)/(σ/√n)\n",
    "5. Now compare with the hypothesis and decide whether to reject or not reject the null hypothesis.   "
   ]
  },
  {
   "cell_type": "markdown",
   "id": "b04253a0-6309-453d-bd48-e4c1e8146304",
   "metadata": {},
   "source": [
    "A teacher claims that the mean score of students in his class is greater than 82 with a standard deviation of 20.if a sample of 81 students\n",
    "was selected with a mean score of 90."
   ]
  },
  {
   "cell_type": "code",
   "execution_count": 58,
   "id": "d482792a-fd6c-45bc-a18a-05bd98cf0efb",
   "metadata": {},
   "outputs": [],
   "source": [
    "import scipy.stats as st\n",
    "import numpy as np"
   ]
  },
  {
   "cell_type": "code",
   "execution_count": 60,
   "id": "7d955afc-e2ed-4aef-a8d9-33306c27bb9c",
   "metadata": {},
   "outputs": [],
   "source": [
    "pop_mean=82\n",
    "pop_std=20\n",
    "n=81\n",
    "sample_mean=90\n",
    "ap=0.05"
   ]
  },
  {
   "cell_type": "code",
   "execution_count": 62,
   "id": "12c4e654-12c5-414a-8610-01ddfd08d254",
   "metadata": {},
   "outputs": [
    {
     "data": {
      "text/plain": [
       "3.5999999999999996"
      ]
     },
     "execution_count": 62,
     "metadata": {},
     "output_type": "execute_result"
    }
   ],
   "source": [
    "# assume ho μ!=82\n",
    "#ha=82\n",
    "z_cal=(sample_mean-pop_mean)/(pop_std/np.sqrt(81))\n",
    "z_cal"
   ]
  },
  {
   "cell_type": "code",
   "execution_count": 17,
   "id": "14b8d35d-20ef-454f-b3d4-439af9be980c",
   "metadata": {},
   "outputs": [
    {
     "data": {
      "text/plain": [
       "1.6448536269514722"
      ]
     },
     "execution_count": 17,
     "metadata": {},
     "output_type": "execute_result"
    }
   ],
   "source": [
    "z_table=st.norm.ppf(0.95)\n",
    "z_table"
   ]
  },
  {
   "cell_type": "code",
   "execution_count": 19,
   "id": "29aac2a7-a045-495f-9a6d-319efff11a54",
   "metadata": {},
   "outputs": [
    {
     "name": "stdout",
     "output_type": "stream",
     "text": [
      "ha is right\n"
     ]
    }
   ],
   "source": [
    "if z_cal>z_table:\n",
    "    print('ha is right')\n",
    "else:\n",
    "    print('h1 is right')"
   ]
  },
  {
   "cell_type": "markdown",
   "id": "8d3515ea-db8c-4bd7-a93a-e938b4acc8c9",
   "metadata": {},
   "source": [
    "hence,teacher claim is true."
   ]
  },
  {
   "cell_type": "markdown",
   "id": "1b14a0e7-13bd-4832-8da2-2209fcb42adc",
   "metadata": {},
   "source": [
    "# Hypothesis Testing (T-test)"
   ]
  },
  {
   "cell_type": "markdown",
   "id": "3304e401-ce79-4c48-b762-11b5eda210a2",
   "metadata": {},
   "source": [
    "A t-test is a type of inferential statistic test used to determine if there is a significant difference between the means of two groups. \n",
    "It is often used when data is normally distributed and population variance is unknown."
   ]
  },
  {
   "cell_type": "markdown",
   "id": "3a79c8f5-8027-451a-8b58-d5e0151fb8b2",
   "metadata": {},
   "source": [
    "# formula of t- test\n",
    "t=(x_bar-μ)/(σ/√n)\n",
    "t = t-value\n",
    "\n",
    "t = t-value\n",
    "x_bar = sample mean\n",
    "μ = true/population mean\n",
    "σ = stand of sampleard deviation\n",
    "n = sample size"
   ]
  },
  {
   "cell_type": "markdown",
   "id": "3e360b31-e477-401f-95ae-8148c19fb5aa",
   "metadata": {},
   "source": [
    "# when to use\n",
    "1. The sample size should be less than 30. Otherwise, we should use the z-test.\n",
    "2. Samples should be drawn at random from the population.\n",
    "3. The standard deviation of the sample should be known.\n",
    "4. Samples that are drawn from the population should be independent of each other."
   ]
  },
  {
   "cell_type": "markdown",
   "id": "cde865e0-cbad-424f-b794-39f1b5cbfe07",
   "metadata": {},
   "source": [
    "# steps to perform z-test\n",
    "1. First, identify the null and alternate hypotheses.\n",
    "2. Determine the level of significance (∝).\n",
    "3. Find the critical value of t in the t-test using and degree of freedom.\n",
    "4. Calculate the t-test statistics.The formula for calculating the z-test statistics.\n",
    "                    t=(x_bar-μ)/(σ/√n)\n",
    "5. Now compare with the hypothesis and decide whether to reject or not reject the null hypothesis."
   ]
  },
  {
   "cell_type": "markdown",
   "id": "67d17a95-39c0-410c-861a-119ac84bfaef",
   "metadata": {},
   "source": [
    "A manufacturer claims that the average weight of chips is 150 grams.A sample of 25 bags are taken ,and the average weight is\n",
    "found to be 148 grams,with a standard deviation of 5 grams.Test the manufactrures claim using a one tail t_test with a \n",
    "significance level of 0.05."
   ]
  },
  {
   "cell_type": "code",
   "execution_count": 64,
   "id": "c31b4312-e6b5-4418-a791-535c10fac103",
   "metadata": {},
   "outputs": [],
   "source": [
    "population_mean=150\n",
    "sample_mean=148\n",
    "std_sample=5\n",
    "no_sample=25"
   ]
  },
  {
   "cell_type": "code",
   "execution_count": 66,
   "id": "3273fddb-4568-4e25-bfdf-7f13e9f70b73",
   "metadata": {},
   "outputs": [
    {
     "data": {
      "text/plain": [
       "-1.7108820799094282"
      ]
     },
     "execution_count": 66,
     "metadata": {},
     "output_type": "execute_result"
    }
   ],
   "source": [
    "#assume ho, μ=150g\n",
    "#ha,μ<150g\n",
    "t_table=st.t.ppf(0.05,24)\n",
    "t_table"
   ]
  },
  {
   "cell_type": "code",
   "execution_count": 9,
   "id": "b0936f40-3ab4-45ca-a79f-79f08912221b",
   "metadata": {},
   "outputs": [
    {
     "data": {
      "text/plain": [
       "-2.0"
      ]
     },
     "execution_count": 9,
     "metadata": {},
     "output_type": "execute_result"
    }
   ],
   "source": [
    "t_cal=(sample_mean-population_mean)/(std_sample/np.sqrt(no_sample))\n",
    "t_cal"
   ]
  },
  {
   "cell_type": "code",
   "execution_count": 15,
   "id": "943835c3-e909-45ba-bcaa-f21bf041aa1e",
   "metadata": {},
   "outputs": [
    {
     "name": "stdout",
     "output_type": "stream",
     "text": [
      "ha is right\n"
     ]
    }
   ],
   "source": [
    "if t_cal>t_table:\n",
    "    print('ho is right')\n",
    "else:\n",
    "    print('ha is right')"
   ]
  },
  {
   "cell_type": "markdown",
   "id": "3a23e7fc-3ba8-414a-b74c-ca4f96f02866",
   "metadata": {},
   "source": [
    "hence,this proved that the company clamin is false."
   ]
  },
  {
   "cell_type": "markdown",
   "id": "9fa7b1a6-354d-411b-98a5-a86c4b1c4639",
   "metadata": {},
   "source": [
    "# Chi -Square-Test"
   ]
  },
  {
   "cell_type": "code",
   "execution_count": null,
   "id": "3fedf5db-93de-4e61-9ea4-f0db41d02c98",
   "metadata": {},
   "outputs": [],
   "source": [
    "A dice is rolled 120 times and following results are obtained.\n",
    "Face 1: 22 times\n",
    "Face 2: 17 times\n",
    "Face 3: 20 times\n",
    "Face 4: 26 times\n",
    "Face 5: 22 times\n",
    "Face 6: 13 times\n",
    "Test at 5% level of significance wheather the die is fair."
   ]
  },
  {
   "cell_type": "code",
   "execution_count": 20,
   "id": "ee9c1aaa-dd1b-4aef-855b-ba4f33bbfa77",
   "metadata": {},
   "outputs": [],
   "source": [
    "#assume ho= dice is fair\n",
    "#ha=dice is not fair\n",
    "ob_value=np.array([22,17,20,26,22,13])\n",
    "ex_value=np.array([20,20,20,20,20,20])"
   ]
  },
  {
   "cell_type": "code",
   "execution_count": 48,
   "id": "d8210dce-975d-4102-9b56-724716f26f47",
   "metadata": {},
   "outputs": [
    {
     "data": {
      "text/plain": [
       "5.1000000000000005"
      ]
     },
     "execution_count": 48,
     "metadata": {},
     "output_type": "execute_result"
    }
   ],
   "source": [
    "chi_cal=np.sum((np.square(ob_value-ex_value))/ex_value)\n",
    "chi_cal"
   ]
  },
  {
   "cell_type": "code",
   "execution_count": 50,
   "id": "43e31718-20c6-4aa1-a154-a3d3a1d13d7f",
   "metadata": {},
   "outputs": [
    {
     "data": {
      "text/plain": [
       "11.070497693516351"
      ]
     },
     "execution_count": 50,
     "metadata": {},
     "output_type": "execute_result"
    }
   ],
   "source": [
    "chi_table=st.chi2.ppf(0.95,5)\n",
    "chi_table"
   ]
  },
  {
   "cell_type": "code",
   "execution_count": 68,
   "id": "85f3dbbd-9b8f-4f31-a99e-1e17cfc171e2",
   "metadata": {},
   "outputs": [
    {
     "name": "stdout",
     "output_type": "stream",
     "text": [
      "ho is right\n"
     ]
    }
   ],
   "source": [
    "if chi_cal<chi_table:\n",
    "    print('ho is right')\n",
    "else:\n",
    "    \n",
    "    print('ha is right')"
   ]
  },
  {
   "cell_type": "markdown",
   "id": "bbb24bed-3d4a-4ef6-bd75-b337cc426806",
   "metadata": {},
   "source": [
    "hence,the die is fair"
   ]
  }
 ],
 "metadata": {
  "kernelspec": {
   "display_name": "Python 3 (ipykernel)",
   "language": "python",
   "name": "python3"
  },
  "language_info": {
   "codemirror_mode": {
    "name": "ipython",
    "version": 3
   },
   "file_extension": ".py",
   "mimetype": "text/x-python",
   "name": "python",
   "nbconvert_exporter": "python",
   "pygments_lexer": "ipython3",
   "version": "3.11.7"
  }
 },
 "nbformat": 4,
 "nbformat_minor": 5
}
