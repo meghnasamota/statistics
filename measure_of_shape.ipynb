{
 "cells": [
  {
   "cell_type": "markdown",
   "id": "e6281395-8da6-4ed2-ae6b-6fa52f500c1f",
   "metadata": {},
   "source": [
    "# Measure Of Shape"
   ]
  },
  {
   "cell_type": "raw",
   "id": "4acc4da0-459b-4ee6-9cd6-905c576bd1d7",
   "metadata": {},
   "source": [
    "A measure of shape can tell us how symmetrical or asymmetrical a set of data is."
   ]
  },
  {
   "cell_type": "code",
   "execution_count": 1,
   "id": "cea816b9-a704-4399-bba1-ef0b57c6ee96",
   "metadata": {},
   "outputs": [],
   "source": [
    "import numpy as np\n",
    "import pandas as pd\n",
    "import matplotlib.pyplot as plt\n",
    "%matplotlib inline\n",
    "import seaborn as sns"
   ]
  },
  {
   "cell_type": "code",
   "execution_count": 3,
   "id": "06c2dd33-db56-4e50-91d0-41b61b0136bc",
   "metadata": {},
   "outputs": [
    {
     "data": {
      "text/html": [
       "<div>\n",
       "<style scoped>\n",
       "    .dataframe tbody tr th:only-of-type {\n",
       "        vertical-align: middle;\n",
       "    }\n",
       "\n",
       "    .dataframe tbody tr th {\n",
       "        vertical-align: top;\n",
       "    }\n",
       "\n",
       "    .dataframe thead th {\n",
       "        text-align: right;\n",
       "    }\n",
       "</style>\n",
       "<table border=\"1\" class=\"dataframe\">\n",
       "  <thead>\n",
       "    <tr style=\"text-align: right;\">\n",
       "      <th></th>\n",
       "      <th>PassengerId</th>\n",
       "      <th>Survived</th>\n",
       "      <th>Pclass</th>\n",
       "      <th>Name</th>\n",
       "      <th>Sex</th>\n",
       "      <th>Age</th>\n",
       "      <th>SibSp</th>\n",
       "      <th>Parch</th>\n",
       "      <th>Ticket</th>\n",
       "      <th>Fare</th>\n",
       "      <th>Cabin</th>\n",
       "      <th>Embarked</th>\n",
       "    </tr>\n",
       "  </thead>\n",
       "  <tbody>\n",
       "    <tr>\n",
       "      <th>0</th>\n",
       "      <td>1</td>\n",
       "      <td>0</td>\n",
       "      <td>3</td>\n",
       "      <td>Braund, Mr. Owen Harris</td>\n",
       "      <td>male</td>\n",
       "      <td>22.0</td>\n",
       "      <td>1</td>\n",
       "      <td>0</td>\n",
       "      <td>A/5 21171</td>\n",
       "      <td>7.2500</td>\n",
       "      <td>NaN</td>\n",
       "      <td>S</td>\n",
       "    </tr>\n",
       "    <tr>\n",
       "      <th>1</th>\n",
       "      <td>2</td>\n",
       "      <td>1</td>\n",
       "      <td>1</td>\n",
       "      <td>Cumings, Mrs. John Bradley (Florence Briggs Th...</td>\n",
       "      <td>female</td>\n",
       "      <td>38.0</td>\n",
       "      <td>1</td>\n",
       "      <td>0</td>\n",
       "      <td>PC 17599</td>\n",
       "      <td>71.2833</td>\n",
       "      <td>C85</td>\n",
       "      <td>C</td>\n",
       "    </tr>\n",
       "    <tr>\n",
       "      <th>2</th>\n",
       "      <td>3</td>\n",
       "      <td>1</td>\n",
       "      <td>3</td>\n",
       "      <td>Heikkinen, Miss. Laina</td>\n",
       "      <td>female</td>\n",
       "      <td>26.0</td>\n",
       "      <td>0</td>\n",
       "      <td>0</td>\n",
       "      <td>STON/O2. 3101282</td>\n",
       "      <td>7.9250</td>\n",
       "      <td>NaN</td>\n",
       "      <td>S</td>\n",
       "    </tr>\n",
       "  </tbody>\n",
       "</table>\n",
       "</div>"
      ],
      "text/plain": [
       "   PassengerId  Survived  Pclass  \\\n",
       "0            1         0       3   \n",
       "1            2         1       1   \n",
       "2            3         1       3   \n",
       "\n",
       "                                                Name     Sex   Age  SibSp  \\\n",
       "0                            Braund, Mr. Owen Harris    male  22.0      1   \n",
       "1  Cumings, Mrs. John Bradley (Florence Briggs Th...  female  38.0      1   \n",
       "2                             Heikkinen, Miss. Laina  female  26.0      0   \n",
       "\n",
       "   Parch            Ticket     Fare Cabin Embarked  \n",
       "0      0         A/5 21171   7.2500   NaN        S  \n",
       "1      0          PC 17599  71.2833   C85        C  \n",
       "2      0  STON/O2. 3101282   7.9250   NaN        S  "
      ]
     },
     "execution_count": 3,
     "metadata": {},
     "output_type": "execute_result"
    }
   ],
   "source": [
    "df=pd.read_csv(r'titanic.csv')\n",
    "df.head(3)"
   ]
  },
  {
   "cell_type": "markdown",
   "id": "d8fea264-9ea1-441d-b366-db8d69b7955c",
   "metadata": {},
   "source": [
    "# skewness"
   ]
  },
  {
   "cell_type": "raw",
   "id": "13ae1cc8-5e9a-48f5-968c-dc50d7556882",
   "metadata": {},
   "source": [
    "Skewness is the measure of asymmetry of distribution. \n",
    "Skewness is a measure of shape, and can be negative (skewed to the left, or negatively skewed), 0 (symmetrical), or positive (skewed to the right, or positively skewed)."
   ]
  },
  {
   "cell_type": "markdown",
   "id": "9a38dba6-8d5e-43d4-9bf0-3043b0849b00",
   "metadata": {},
   "source": [
    "# Positive Skewed"
   ]
  },
  {
   "cell_type": "code",
   "execution_count": null,
   "id": "8b5d16ec-3448-4b51-b7f4-233bdb86c678",
   "metadata": {},
   "outputs": [],
   "source": [
    "df['Age'].skew()"
   ]
  },
  {
   "cell_type": "raw",
   "id": "118e9e7d-c9da-4c5d-83e3-06ede281b6a5",
   "metadata": {},
   "source": [
    "If skewness is greater than 0, then it is called positive skewed."
   ]
  },
  {
   "cell_type": "code",
   "execution_count": 7,
   "id": "b0ab434e-a0f5-42ba-a99d-da4263fba5e8",
   "metadata": {},
   "outputs": [
    {
     "data": {
      "text/plain": [
       "<Axes: xlabel='Age', ylabel='Count'>"
      ]
     },
     "execution_count": 7,
     "metadata": {},
     "output_type": "execute_result"
    },
    {
     "data": {
      "image/png": "[encoded data removed]",
      "text/plain": [
       "<Figure size 640x480 with 1 Axes>"
      ]
     },
     "metadata": {},
     "output_type": "display_data"
    }
   ],
   "source": [
    "sns.histplot(x='Age',data=df)"
   ]
  },
  {
   "cell_type": "raw",
   "id": "28a4865c-10df-4314-b1ad-04342719f38d",
   "metadata": {},
   "source": [
    "Histogram is also showing that the data is positive skewed."
   ]
  },
  {
   "cell_type": "markdown",
   "id": "49da5841-78dc-43e9-9149-da6a04b46aca",
   "metadata": {},
   "source": [
    "# Negative Skewed"
   ]
  },
  {
   "cell_type": "code",
   "execution_count": 101,
   "id": "7825e69c-b935-496b-9934-a25ab4e2a891",
   "metadata": {},
   "outputs": [
    {
     "data": {
      "text/plain": [
       "array([  81.16518943,  181.9070873 ,   62.12885779,  -43.55070594,\n",
       "         41.38687898,  129.70190934,   13.73175455,  -70.61008392,\n",
       "        138.50768561, -165.27620335, -157.83821939,  133.04491989,\n",
       "       -215.0587752 , -148.98066271,  190.76769418, -130.47095973,\n",
       "         62.07627777,  -57.71966861,   -2.20897333,   45.09329356,\n",
       "         11.92624668,   15.82658625,  -12.96991981,  182.42341102,\n",
       "        -13.1458712 ,   65.49197482,   48.64628193,    9.64816287,\n",
       "        -37.31600542,  -73.1861814 ,   39.57942215,  -43.23329987,\n",
       "        -12.11157956,   61.32577341,  100.33819484,  229.56076846,\n",
       "        -67.03881395,  -44.184515  ,  225.26405885,   14.17497982,\n",
       "       -147.70984083,  -32.5144173 ,  -41.24550729,  130.50204987,\n",
       "        -11.50023795,  -55.85697145,  -37.77582639,   42.74480029,\n",
       "        117.84188692,   33.73601582, -102.17376591,   -6.52717293,\n",
       "        -41.61964231,  -32.81995645,  -10.35472355,  -57.62793186,\n",
       "        135.48196961,  -91.94971127,  -18.58890562,  -62.78856727,\n",
       "        -50.72442549,   58.7673834 ,  -98.77747446,   86.95025317,\n",
       "         54.9168807 , -191.64877028,  112.1612303 ,   31.24434029,\n",
       "         51.39373176,  -37.4282725 ,  -84.01945399,  -79.22039033,\n",
       "        -92.70154205,  -10.61684312,   80.90152412,   23.38409608,\n",
       "        112.28535417,   60.11094434,  114.41643611,  139.35185009,\n",
       "       -114.87309234,  -20.83680399,   57.61185175, -135.77744469,\n",
       "         38.2557495 ,  -31.34897381,   51.76581998,   27.92128669,\n",
       "         79.62245028,  -92.9250336 ,   32.41650267,  -42.43605306,\n",
       "        127.96193122, -115.66452631,  -37.37033697, -313.87076714,\n",
       "        103.46886191,   -2.61960666,   68.15798516,    7.21651942])"
      ]
     },
     "execution_count": 101,
     "metadata": {},
     "output_type": "execute_result"
    }
   ],
   "source": [
    "data=np.random.normal(0,100,100)\n",
    "data"
   ]
  },
  {
   "cell_type": "code",
   "execution_count": 103,
   "id": "d57c0a97-9fb7-44cd-b3f6-935bedb61b1d",
   "metadata": {},
   "outputs": [
    {
     "data": {
      "text/html": [
       "<div>\n",
       "<style scoped>\n",
       "    .dataframe tbody tr th:only-of-type {\n",
       "        vertical-align: middle;\n",
       "    }\n",
       "\n",
       "    .dataframe tbody tr th {\n",
       "        vertical-align: top;\n",
       "    }\n",
       "\n",
       "    .dataframe thead th {\n",
       "        text-align: right;\n",
       "    }\n",
       "</style>\n",
       "<table border=\"1\" class=\"dataframe\">\n",
       "  <thead>\n",
       "    <tr style=\"text-align: right;\">\n",
       "      <th></th>\n",
       "      <th>x</th>\n",
       "    </tr>\n",
       "  </thead>\n",
       "  <tbody>\n",
       "    <tr>\n",
       "      <th>0</th>\n",
       "      <td>81.165189</td>\n",
       "    </tr>\n",
       "    <tr>\n",
       "      <th>1</th>\n",
       "      <td>181.907087</td>\n",
       "    </tr>\n",
       "  </tbody>\n",
       "</table>\n",
       "</div>"
      ],
      "text/plain": [
       "            x\n",
       "0   81.165189\n",
       "1  181.907087"
      ]
     },
     "execution_count": 103,
     "metadata": {},
     "output_type": "execute_result"
    }
   ],
   "source": [
    "df1=pd.DataFrame({\"x\":data})\n",
    "df1.head(2)"
   ]
  },
  {
   "cell_type": "code",
   "execution_count": 105,
   "id": "906a2a83-4b88-48fc-93e7-2bb095001ec3",
   "metadata": {},
   "outputs": [
    {
     "data": {
      "text/plain": [
       "-0.2184509790674791"
      ]
     },
     "execution_count": 105,
     "metadata": {},
     "output_type": "execute_result"
    }
   ],
   "source": [
    "df1['x'].skew()"
   ]
  },
  {
   "cell_type": "code",
   "execution_count": 107,
   "id": "b4cf9d0b-a56b-44aa-aa45-2e0488a4998d",
   "metadata": {},
   "outputs": [
    {
     "data": {
      "text/plain": [
       "<Axes: xlabel='x', ylabel='Count'>"
      ]
     },
     "execution_count": 107,
     "metadata": {},
     "output_type": "execute_result"
    },
    {
     "data": {
      "image/png": "[encoded data removed]",
      "text/plain": [
       "<Figure size 640x480 with 1 Axes>"
      ]
     },
     "metadata": {},
     "output_type": "display_data"
    }
   ],
   "source": [
    "sns.histplot(x='x',data=df1)"
   ]
  },
  {
   "cell_type": "markdown",
   "id": "756bd77a-f8ee-4d33-84f1-4feae1be1e2c",
   "metadata": {},
   "source": [
    "# normal skewed"
   ]
  },
  {
   "cell_type": "code",
   "execution_count": 148,
   "id": "b6abbcd1-a9f3-462d-a3f3-5c4d60eecf37",
   "metadata": {},
   "outputs": [
    {
     "data": {
      "text/plain": [
       "list"
      ]
     },
     "execution_count": 148,
     "metadata": {},
     "output_type": "execute_result"
    }
   ],
   "source": [
    "data1=[2,3,3,4,4,4,5,5,5,5,6,6,6,6,6,7,7,7,7,7,7,8,8,8,8,8,9,9,9,9,10,10,10,11,11,12]\n",
    "type(data1)"
   ]
  },
  {
   "cell_type": "code",
   "execution_count": 150,
   "id": "3922b9e2-6fe1-4687-9367-979ef6af3886",
   "metadata": {},
   "outputs": [
    {
     "data": {
      "text/html": [
       "<div>\n",
       "<style scoped>\n",
       "    .dataframe tbody tr th:only-of-type {\n",
       "        vertical-align: middle;\n",
       "    }\n",
       "\n",
       "    .dataframe tbody tr th {\n",
       "        vertical-align: top;\n",
       "    }\n",
       "\n",
       "    .dataframe thead th {\n",
       "        text-align: right;\n",
       "    }\n",
       "</style>\n",
       "<table border=\"1\" class=\"dataframe\">\n",
       "  <thead>\n",
       "    <tr style=\"text-align: right;\">\n",
       "      <th></th>\n",
       "      <th>x</th>\n",
       "    </tr>\n",
       "  </thead>\n",
       "  <tbody>\n",
       "    <tr>\n",
       "      <th>0</th>\n",
       "      <td>2</td>\n",
       "    </tr>\n",
       "    <tr>\n",
       "      <th>1</th>\n",
       "      <td>3</td>\n",
       "    </tr>\n",
       "  </tbody>\n",
       "</table>\n",
       "</div>"
      ],
      "text/plain": [
       "   x\n",
       "0  2\n",
       "1  3"
      ]
     },
     "execution_count": 150,
     "metadata": {},
     "output_type": "execute_result"
    }
   ],
   "source": [
    "df2=pd.DataFrame({\"x\":data1})\n",
    "df2.head(2)"
   ]
  },
  {
   "cell_type": "code",
   "execution_count": 152,
   "id": "2450f3fe-f29b-4488-a541-5f4979edafcf",
   "metadata": {},
   "outputs": [
    {
     "data": {
      "text/plain": [
       "0.0"
      ]
     },
     "execution_count": 152,
     "metadata": {},
     "output_type": "execute_result"
    }
   ],
   "source": [
    "df2['x'].skew()"
   ]
  },
  {
   "cell_type": "code",
   "execution_count": 140,
   "id": "2efaf957-8296-4c78-94f5-4aada8e4d71f",
   "metadata": {},
   "outputs": [
    {
     "data": {
      "text/plain": [
       "<Axes: xlabel='x', ylabel='Count'>"
      ]
     },
     "execution_count": 140,
     "metadata": {},
     "output_type": "execute_result"
    },
    {
     "data": {
      "image/png": "[encoded data removed]",
      "text/plain": [
       "<Figure size 640x480 with 1 Axes>"
      ]
     },
     "metadata": {},
     "output_type": "display_data"
    }
   ],
   "source": [
    "sns.histplot(x='x',data=df2,bins=[2,3,4,5,6,7,8,9,10,11,12])"
   ]
  },
  {
   "cell_type": "code",
   "execution_count": null,
   "id": "e72a8106-d8f4-4fd2-9518-392c16f08161",
   "metadata": {},
   "outputs": [],
   "source": []
  }
 ],
 "metadata": {
  "kernelspec": {
   "display_name": "Python 3 (ipykernel)",
   "language": "python",
   "name": "python3"
  },
  "language_info": {
   "codemirror_mode": {
    "name": "ipython",
    "version": 3
   },
   "file_extension": ".py",
   "mimetype": "text/x-python",
   "name": "python",
   "nbconvert_exporter": "python",
   "pygments_lexer": "ipython3",
   "version": "3.11.7"
  }
 },
 "nbformat": 4,
 "nbformat_minor": 5
}
